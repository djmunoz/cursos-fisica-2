{
 "cells": [
  {
   "cell_type": "markdown",
   "id": "e8d49eda",
   "metadata": {},
   "source": [
    "# Plantilla Informe de Laboratorio "
   ]
  },
  {
   "cell_type": "markdown",
   "id": "62dacbf1",
   "metadata": {},
   "source": [
    "*(si no tienes Python y/o Jupyter instalado localmente, considera usar Google Colab para ejecutar este cuadernillo; una cuenta Google Drive puede ser necesaria)* <a href=\"https://colab.research.google.com/github/djmunoz/cursos-fisica-2/blob/main/informe.ipynb\" target=\"_parent\"><img src=\"https://colab.research.google.com/assets/colab-badge.svg\" alt=\"Open In Colab\"/></a>"
   ]
  },
  {
   "cell_type": "markdown",
   "id": "f3915944",
   "metadata": {},
   "source": [
    "#### Preliminares: Instalación de librerias\n",
    "por ejemplo:\n",
    "```python\n",
    "import xxx\n",
    "```\n"
   ]
  },
  {
   "cell_type": "code",
   "execution_count": 1,
   "id": "ec8543c1",
   "metadata": {},
   "outputs": [],
   "source": []
  },
  {
   "cell_type": "markdown",
   "id": "ff7a2826",
   "metadata": {},
   "source": [
    "### 1. Primera pregunta "
   ]
  },
  {
   "cell_type": "code",
   "execution_count": 2,
   "id": "0a137593",
   "metadata": {},
   "outputs": [],
   "source": [
    "# escriba su codigo aquí (con comentarios explicativos)"
   ]
  },
  {
   "cell_type": "markdown",
   "id": "93153f5a",
   "metadata": {},
   "source": [
    "(Explique lo que hizo y responda brevemente la pregunta acá)"
   ]
  },
  {
   "cell_type": "markdown",
   "id": "172b229c",
   "metadata": {},
   "source": [
    "### 2. Segunda pregunta (etc...)"
   ]
  },
  {
   "cell_type": "code",
   "execution_count": 3,
   "id": "01bed225",
   "metadata": {},
   "outputs": [],
   "source": []
  },
  {
   "cell_type": "markdown",
   "id": "37cc6711",
   "metadata": {},
   "source": []
  },
  {
   "cell_type": "markdown",
   "id": "cac4f0b7",
   "metadata": {},
   "source": [
    "### Conclusiones"
   ]
  },
  {
   "cell_type": "markdown",
   "id": "de877948",
   "metadata": {},
   "source": [
    "(Escriba sus conclusiones aquí. Son conclusiones, no un resumen)"
   ]
  },
  {
   "cell_type": "code",
   "execution_count": null,
   "id": "f9fa00bf",
   "metadata": {},
   "outputs": [],
   "source": []
  }
 ],
 "metadata": {
  "kernelspec": {
   "display_name": "Python 3",
   "language": "python",
   "name": "python3"
  },
  "language_info": {
   "codemirror_mode": {
    "name": "ipython",
    "version": 3
   },
   "file_extension": ".py",
   "mimetype": "text/x-python",
   "name": "python",
   "nbconvert_exporter": "python",
   "pygments_lexer": "ipython3",
   "version": "3.8.8"
  }
 },
 "nbformat": 4,
 "nbformat_minor": 5
}
