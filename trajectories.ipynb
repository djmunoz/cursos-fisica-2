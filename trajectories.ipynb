{
 "cells": [
  {
   "cell_type": "markdown",
   "id": "e8d49eda",
   "metadata": {},
   "source": [
    "# Trayectorias circular, elípticas, parabólicas e hiperbólicas"
   ]
  },
  {
   "cell_type": "markdown",
   "id": "62dacbf1",
   "metadata": {},
   "source": [
    "*(si no tienes Python y/o Jupyter instalado localmente, considera usar Google Colab para ejecutar este cuadernillo; una cuenta Google Drive puede ser necesaria)* <a href=\"https://colab.research.google.com/github/djmunoz/cursos-fisica-2/blob/main/trajectories.ipynb\" target=\"_parent\"><img src=\"https://colab.research.google.com/assets/colab-badge.svg\" alt=\"Open In Colab\"/></a>"
   ]
  },
  {
   "cell_type": "markdown",
   "id": "f3915944",
   "metadata": {},
   "source": [
    "#### Preliminares: Instalación de librerias\n",
    "Probablemente, necesitaras instalar el paquete <code>rebound</code>. Si es así, descomenta la siguiente celda:"
   ]
  },
  {
   "cell_type": "code",
   "execution_count": 1,
   "id": "ec8543c1",
   "metadata": {},
   "outputs": [],
   "source": [
    "# %pip install rebound"
   ]
  },
  {
   "cell_type": "markdown",
   "id": "ff7a2826",
   "metadata": {},
   "source": [
    "### 1. Cargar librerías relevantes"
   ]
  },
  {
   "cell_type": "code",
   "execution_count": 2,
   "id": "0a137593",
   "metadata": {},
   "outputs": [],
   "source": [
    "import rebound\n",
    "import numpy as np\n",
    "import matplotlib.pyplot as plt\n",
    "from IPython import display\n",
    "import time"
   ]
  },
  {
   "cell_type": "markdown",
   "id": "172b229c",
   "metadata": {},
   "source": [
    "### 2. Inicializar simulación (creación del objeto <code>sim</code>)"
   ]
  },
  {
   "cell_type": "code",
   "execution_count": 3,
   "id": "01bed225",
   "metadata": {},
   "outputs": [],
   "source": [
    "sim = rebound.Simulation()\n",
    "sim.G = 39.4876393\n",
    "sim.integrator = \"whfast\"\n",
    "au = 1.\n",
    "Msun = 1."
   ]
  },
  {
   "cell_type": "markdown",
   "id": "70c9c35b",
   "metadata": {},
   "source": [
    "### 3. Nave espacial alrededor del Sol"
   ]
  },
  {
   "cell_type": "code",
   "execution_count": 4,
   "id": "dc0f7eaa",
   "metadata": {},
   "outputs": [],
   "source": [
    "alpha = 1\n",
    "r0 = 1 * au\n",
    "v0 = alpha * np.sqrt(sim.G * Msun/r0)\n",
    "\n",
    "\n",
    "# r0 es una lista de 10 vectores de posición (x,y,z), i.e , una matriz 10x3\n",
    "pos0=np.array([[0,0,0],[0,r0,0]])\n",
    "vel0=np.array([[0,0,0],[v0,0,0]])\n",
    "masses = np.array([Msun,1e-30])\n"
   ]
  },
  {
   "cell_type": "markdown",
   "id": "1febc086",
   "metadata": {},
   "source": [
    "### 4. Inicializar la simulación computacional, agregando cada cuerpo a objeto <code>sim</code>"
   ]
  },
  {
   "cell_type": "code",
   "execution_count": 5,
   "id": "4e48f11a",
   "metadata": {},
   "outputs": [],
   "source": [
    "for kk in range(len(masses)):\n",
    "    sim.add(m=masses[kk],x=pos0[kk,0],y=pos0[kk,1],z=pos0[kk,2],vx=vel0[kk,0],vy=vel0[kk,1],vz=vel0[kk,2])\n",
    "#...y nos aseguramos que el centro de masa está en reposo en el origen\n",
    "sim.move_to_com()"
   ]
  },
  {
   "cell_type": "markdown",
   "id": "9c2b2afe",
   "metadata": {},
   "source": [
    "### 5. Integración numérica en el tiempo"
   ]
  },
  {
   "cell_type": "code",
   "execution_count": 6,
   "id": "966f3753",
   "metadata": {},
   "outputs": [],
   "source": [
    "#%matplotlib notebook  \n",
    "\n",
    "tmax = 2\n",
    "Nout = 100\n",
    "x,y = np.zeros(Nout), np.zeros(Nout)\n",
    "times = np.linspace(0.,tmax,Nout)\n",
    "\n",
    "for i,t in enumerate(times):\n",
    "    sim.integrate(t)\n",
    "    x[i], y[i] = sim.particles[1].x, sim.particles[1].y\n",
    "    #plt.plot(x[::i+1],y[::i+1])\n",
    "    #plt.axis('equal')"
   ]
  },
  {
   "cell_type": "code",
   "execution_count": 11,
   "id": "2c6632e4",
   "metadata": {},
   "outputs": [
    {
     "data": {
      "image/png": "[encoded data removed]",
      "text/plain": [
       "<Figure size 432x288 with 1 Axes>"
      ]
     },
     "metadata": {},
     "output_type": "display_data"
    },
    {
     "data": {
      "image/png": "[encoded data removed]",
      "text/plain": [
       "<Figure size 432x288 with 1 Axes>"
      ]
     },
     "metadata": {
      "needs_background": "light"
     },
     "output_type": "display_data"
    }
   ],
   "source": [
    "%matplotlib inline\n",
    "\n",
    "for i,t in enumerate(times):\n",
    "    plt.plot(x[:i+1],y[:i+1],'k',lw=0.8)\n",
    "    plt.plot(x[i],y[i],'b.')\n",
    "    plt.axis('equal')\n",
    "    plt.xlim(-2*au,2*au)\n",
    "    plt.ylim(-2*au,2*au)\n",
    "    display.clear_output(wait=True)\n",
    "    display.display(plt.gcf())\n",
    "    time.sleep(0.05)"
   ]
  },
  {
   "cell_type": "markdown",
   "id": "53665ef1",
   "metadata": {},
   "source": [
    "### 6. Graficar solución en coordenadas baricéntricas (i.e., respecto al centro de masa)"
   ]
  },
  {
   "cell_type": "code",
   "execution_count": null,
   "id": "50985e4c",
   "metadata": {},
   "outputs": [],
   "source": [
    "%matplotlib inline\n",
    "plt.plot(x,y,'.')\n",
    "plt.xlim(-2*au,2*au)\n",
    "plt.ylim(-2*au,2*au)\n",
    "plt.axis('equal')\n",
    "plt.show()\n",
    "print(x,y)"
   ]
  }
 ],
 "metadata": {
  "kernelspec": {
   "display_name": "Python 3",
   "language": "python",
   "name": "python3"
  },
  "language_info": {
   "codemirror_mode": {
    "name": "ipython",
    "version": 3
   },
   "file_extension": ".py",
   "mimetype": "text/x-python",
   "name": "python",
   "nbconvert_exporter": "python",
   "pygments_lexer": "ipython3",
   "version": "3.8.8"
  }
 },
 "nbformat": 4,
 "nbformat_minor": 5
}
